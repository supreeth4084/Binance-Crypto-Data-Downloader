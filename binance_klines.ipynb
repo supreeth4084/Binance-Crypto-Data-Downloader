{
  "nbformat": 4,
  "nbformat_minor": 0,
  "metadata": {
    "colab": {
      "provenance": []
    },
    "kernelspec": {
      "name": "python3",
      "display_name": "Python 3"
    },
    "language_info": {
      "name": "python"
    }
  },
  "cells": [
    {
      "cell_type": "markdown",
      "source": [
        "Binance Data Downloader using Requests for Cryptocurrency OHLC Data"
      ],
      "metadata": {
        "id": "FdBiDbyvSe50"
      }
    },
    {
      "cell_type": "code",
      "source": [
        "import requests\n",
        "import datetime\n",
        "import pandas as pd\n",
        "import numpy as np\n",
        "\n",
        "def get_binance_data_by_requests(ticker='ETHUSDT', interval='4h', start='2020-01-01 00:00:00', end='2023-07-01 00:00:00'):\n",
        "  \"\"\"\n",
        "  interval: str tick interval - 4h/1h/1d ...\n",
        "  \"\"\"\n",
        "  columns = ['open_time','open', 'high', 'low', 'close', 'volume','close_time', 'Quote asset volume','num_trades','taker_base_vol','taker_quote_vol', 'ignore']\n",
        "  usecols=['open_time','open', 'high', 'low', 'close', 'volume','close_time', 'Quote asset volume','num_trades','taker_base_vol','taker_quote_vol']\n",
        "  start = int(datetime.datetime.timestamp(pd.to_datetime(start))*1000)\n",
        "  end_u = int(datetime.datetime.timestamp(pd.to_datetime(end))*1000)\n",
        "  df = pd.DataFrame()\n",
        "  print(f'Downloading {interval} {ticker} ohlc-data ...', end=' ')\n",
        "  while True:\n",
        "    url = f'https://www.binance.com/api/v3/klines?symbol={ticker}&interval={interval}&limit=1000&startTime={start}#&endTime={end_u}'\n",
        "    data = pd.DataFrame(requests.get(url, headers={'Cache-Control': 'no-cache', \"Pragma\": \"no-cache\"}).json(), columns=columns, dtype=np.float64)\n",
        "    start = int(data.open_time.tolist()[-1])+1\n",
        "    data.index = [pd.to_datetime(x, unit='ms').strftime('%Y-%m-%d %H:%M:%S') for x in data.open_time]\n",
        "    data = data[usecols]\n",
        "    df = pd.concat([df, data], axis=0)\n",
        "    if end in data.index.tolist():\n",
        "      break\n",
        "  print('Done.')\n",
        "  df.index = pd.to_datetime(df.index)\n",
        "  df = df.loc[:end]\n",
        "  return df\n",
        "\n"
      ],
      "metadata": {
        "id": "FO1Nz-R5Yxur"
      },
      "execution_count": null,
      "outputs": []
    },
    {
      "cell_type": "markdown",
      "source": [
        "\n",
        "    1499040000000,      // Open time\n",
        "    \"0.01634790\",       // Open\n",
        "    \"0.80000000\",       // High\n",
        "    \"0.01575800\",       // Low\n",
        "    \"0.01577100\",       // Close\n",
        "    \"148976.11427815\",  // Volume\n",
        "    1499644799999,      // Close time\n",
        "    \"2434.19055334\",    // Quote asset volume\n",
        "    308,                // Number of trades\n",
        "    \"1756.87402397\",    // Taker buy base asset volume\n",
        "    \"28.46694368\",      // Taker buy quote asset volume\n",
        "    \"17928899.62484339\" // Ignore\n",
        "  \n"
      ],
      "metadata": {
        "id": "rMm5P7uvbT3_"
      }
    },
    {
      "cell_type": "code",
      "source": [
        "Matic = get_binance_data_by_requests(ticker='MATICUSDT', interval='1h', start='2019-12-14 00:00:00', end='2023-12-14 00:00:00')\n",
        "Matic.to_csv('Matic.csv',index=False)"
      ],
      "metadata": {
        "id": "OtWSYHDhY9TO"
      },
      "execution_count": null,
      "outputs": []
    }
  ]
}